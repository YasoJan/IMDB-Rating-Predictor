{
 "cells": [
  {
   "cell_type": "code",
   "execution_count": 96,
   "id": "718a97d6",
   "metadata": {
    "scrolled": true
   },
   "outputs": [
    {
     "data": {
      "text/html": [
       "<div>\n",
       "<style scoped>\n",
       "    .dataframe tbody tr th:only-of-type {\n",
       "        vertical-align: middle;\n",
       "    }\n",
       "\n",
       "    .dataframe tbody tr th {\n",
       "        vertical-align: top;\n",
       "    }\n",
       "\n",
       "    .dataframe thead th {\n",
       "        text-align: right;\n",
       "    }\n",
       "</style>\n",
       "<table border=\"1\" class=\"dataframe\">\n",
       "  <thead>\n",
       "    <tr style=\"text-align: right;\">\n",
       "      <th></th>\n",
       "      <th>Poster_Link</th>\n",
       "      <th>Series_Title</th>\n",
       "      <th>Released_Year</th>\n",
       "      <th>Certificate</th>\n",
       "      <th>Runtime</th>\n",
       "      <th>Genre</th>\n",
       "      <th>IMDB_Rating</th>\n",
       "      <th>Overview</th>\n",
       "      <th>Meta_score</th>\n",
       "      <th>Director</th>\n",
       "      <th>Star1</th>\n",
       "      <th>Star2</th>\n",
       "      <th>Star3</th>\n",
       "      <th>Star4</th>\n",
       "      <th>No_of_Votes</th>\n",
       "      <th>Gross</th>\n",
       "    </tr>\n",
       "  </thead>\n",
       "  <tbody>\n",
       "    <tr>\n",
       "      <th>count</th>\n",
       "      <td>1000</td>\n",
       "      <td>1000</td>\n",
       "      <td>1000</td>\n",
       "      <td>899</td>\n",
       "      <td>1000</td>\n",
       "      <td>1000</td>\n",
       "      <td>1000.000000</td>\n",
       "      <td>1000</td>\n",
       "      <td>843.000000</td>\n",
       "      <td>1000</td>\n",
       "      <td>1000</td>\n",
       "      <td>1000</td>\n",
       "      <td>1000</td>\n",
       "      <td>1000</td>\n",
       "      <td>1.000000e+03</td>\n",
       "      <td>831</td>\n",
       "    </tr>\n",
       "    <tr>\n",
       "      <th>unique</th>\n",
       "      <td>1000</td>\n",
       "      <td>999</td>\n",
       "      <td>100</td>\n",
       "      <td>16</td>\n",
       "      <td>140</td>\n",
       "      <td>202</td>\n",
       "      <td>NaN</td>\n",
       "      <td>1000</td>\n",
       "      <td>NaN</td>\n",
       "      <td>548</td>\n",
       "      <td>660</td>\n",
       "      <td>841</td>\n",
       "      <td>891</td>\n",
       "      <td>939</td>\n",
       "      <td>NaN</td>\n",
       "      <td>823</td>\n",
       "    </tr>\n",
       "    <tr>\n",
       "      <th>top</th>\n",
       "      <td>https://m.media-amazon.com/images/M/MV5BMDFkYT...</td>\n",
       "      <td>Drishyam</td>\n",
       "      <td>2014</td>\n",
       "      <td>U</td>\n",
       "      <td>100 min</td>\n",
       "      <td>Drama</td>\n",
       "      <td>NaN</td>\n",
       "      <td>Two imprisoned men bond over a number of years...</td>\n",
       "      <td>NaN</td>\n",
       "      <td>Alfred Hitchcock</td>\n",
       "      <td>Tom Hanks</td>\n",
       "      <td>Emma Watson</td>\n",
       "      <td>Rupert Grint</td>\n",
       "      <td>Michael Caine</td>\n",
       "      <td>NaN</td>\n",
       "      <td>4,360,000</td>\n",
       "    </tr>\n",
       "    <tr>\n",
       "      <th>freq</th>\n",
       "      <td>1</td>\n",
       "      <td>2</td>\n",
       "      <td>32</td>\n",
       "      <td>234</td>\n",
       "      <td>23</td>\n",
       "      <td>85</td>\n",
       "      <td>NaN</td>\n",
       "      <td>1</td>\n",
       "      <td>NaN</td>\n",
       "      <td>14</td>\n",
       "      <td>12</td>\n",
       "      <td>7</td>\n",
       "      <td>5</td>\n",
       "      <td>4</td>\n",
       "      <td>NaN</td>\n",
       "      <td>5</td>\n",
       "    </tr>\n",
       "    <tr>\n",
       "      <th>mean</th>\n",
       "      <td>NaN</td>\n",
       "      <td>NaN</td>\n",
       "      <td>NaN</td>\n",
       "      <td>NaN</td>\n",
       "      <td>NaN</td>\n",
       "      <td>NaN</td>\n",
       "      <td>7.949300</td>\n",
       "      <td>NaN</td>\n",
       "      <td>77.971530</td>\n",
       "      <td>NaN</td>\n",
       "      <td>NaN</td>\n",
       "      <td>NaN</td>\n",
       "      <td>NaN</td>\n",
       "      <td>NaN</td>\n",
       "      <td>2.736929e+05</td>\n",
       "      <td>NaN</td>\n",
       "    </tr>\n",
       "    <tr>\n",
       "      <th>std</th>\n",
       "      <td>NaN</td>\n",
       "      <td>NaN</td>\n",
       "      <td>NaN</td>\n",
       "      <td>NaN</td>\n",
       "      <td>NaN</td>\n",
       "      <td>NaN</td>\n",
       "      <td>0.275491</td>\n",
       "      <td>NaN</td>\n",
       "      <td>12.376099</td>\n",
       "      <td>NaN</td>\n",
       "      <td>NaN</td>\n",
       "      <td>NaN</td>\n",
       "      <td>NaN</td>\n",
       "      <td>NaN</td>\n",
       "      <td>3.273727e+05</td>\n",
       "      <td>NaN</td>\n",
       "    </tr>\n",
       "    <tr>\n",
       "      <th>min</th>\n",
       "      <td>NaN</td>\n",
       "      <td>NaN</td>\n",
       "      <td>NaN</td>\n",
       "      <td>NaN</td>\n",
       "      <td>NaN</td>\n",
       "      <td>NaN</td>\n",
       "      <td>7.600000</td>\n",
       "      <td>NaN</td>\n",
       "      <td>28.000000</td>\n",
       "      <td>NaN</td>\n",
       "      <td>NaN</td>\n",
       "      <td>NaN</td>\n",
       "      <td>NaN</td>\n",
       "      <td>NaN</td>\n",
       "      <td>2.508800e+04</td>\n",
       "      <td>NaN</td>\n",
       "    </tr>\n",
       "    <tr>\n",
       "      <th>25%</th>\n",
       "      <td>NaN</td>\n",
       "      <td>NaN</td>\n",
       "      <td>NaN</td>\n",
       "      <td>NaN</td>\n",
       "      <td>NaN</td>\n",
       "      <td>NaN</td>\n",
       "      <td>7.700000</td>\n",
       "      <td>NaN</td>\n",
       "      <td>70.000000</td>\n",
       "      <td>NaN</td>\n",
       "      <td>NaN</td>\n",
       "      <td>NaN</td>\n",
       "      <td>NaN</td>\n",
       "      <td>NaN</td>\n",
       "      <td>5.552625e+04</td>\n",
       "      <td>NaN</td>\n",
       "    </tr>\n",
       "    <tr>\n",
       "      <th>50%</th>\n",
       "      <td>NaN</td>\n",
       "      <td>NaN</td>\n",
       "      <td>NaN</td>\n",
       "      <td>NaN</td>\n",
       "      <td>NaN</td>\n",
       "      <td>NaN</td>\n",
       "      <td>7.900000</td>\n",
       "      <td>NaN</td>\n",
       "      <td>79.000000</td>\n",
       "      <td>NaN</td>\n",
       "      <td>NaN</td>\n",
       "      <td>NaN</td>\n",
       "      <td>NaN</td>\n",
       "      <td>NaN</td>\n",
       "      <td>1.385485e+05</td>\n",
       "      <td>NaN</td>\n",
       "    </tr>\n",
       "    <tr>\n",
       "      <th>75%</th>\n",
       "      <td>NaN</td>\n",
       "      <td>NaN</td>\n",
       "      <td>NaN</td>\n",
       "      <td>NaN</td>\n",
       "      <td>NaN</td>\n",
       "      <td>NaN</td>\n",
       "      <td>8.100000</td>\n",
       "      <td>NaN</td>\n",
       "      <td>87.000000</td>\n",
       "      <td>NaN</td>\n",
       "      <td>NaN</td>\n",
       "      <td>NaN</td>\n",
       "      <td>NaN</td>\n",
       "      <td>NaN</td>\n",
       "      <td>3.741612e+05</td>\n",
       "      <td>NaN</td>\n",
       "    </tr>\n",
       "    <tr>\n",
       "      <th>max</th>\n",
       "      <td>NaN</td>\n",
       "      <td>NaN</td>\n",
       "      <td>NaN</td>\n",
       "      <td>NaN</td>\n",
       "      <td>NaN</td>\n",
       "      <td>NaN</td>\n",
       "      <td>9.300000</td>\n",
       "      <td>NaN</td>\n",
       "      <td>100.000000</td>\n",
       "      <td>NaN</td>\n",
       "      <td>NaN</td>\n",
       "      <td>NaN</td>\n",
       "      <td>NaN</td>\n",
       "      <td>NaN</td>\n",
       "      <td>2.343110e+06</td>\n",
       "      <td>NaN</td>\n",
       "    </tr>\n",
       "  </tbody>\n",
       "</table>\n",
       "</div>"
      ],
      "text/plain": [
       "                                              Poster_Link Series_Title  \\\n",
       "count                                                1000         1000   \n",
       "unique                                               1000          999   \n",
       "top     https://m.media-amazon.com/images/M/MV5BMDFkYT...     Drishyam   \n",
       "freq                                                    1            2   \n",
       "mean                                                  NaN          NaN   \n",
       "std                                                   NaN          NaN   \n",
       "min                                                   NaN          NaN   \n",
       "25%                                                   NaN          NaN   \n",
       "50%                                                   NaN          NaN   \n",
       "75%                                                   NaN          NaN   \n",
       "max                                                   NaN          NaN   \n",
       "\n",
       "       Released_Year Certificate  Runtime  Genre  IMDB_Rating  \\\n",
       "count           1000         899     1000   1000  1000.000000   \n",
       "unique           100          16      140    202          NaN   \n",
       "top             2014           U  100 min  Drama          NaN   \n",
       "freq              32         234       23     85          NaN   \n",
       "mean             NaN         NaN      NaN    NaN     7.949300   \n",
       "std              NaN         NaN      NaN    NaN     0.275491   \n",
       "min              NaN         NaN      NaN    NaN     7.600000   \n",
       "25%              NaN         NaN      NaN    NaN     7.700000   \n",
       "50%              NaN         NaN      NaN    NaN     7.900000   \n",
       "75%              NaN         NaN      NaN    NaN     8.100000   \n",
       "max              NaN         NaN      NaN    NaN     9.300000   \n",
       "\n",
       "                                                 Overview  Meta_score  \\\n",
       "count                                                1000  843.000000   \n",
       "unique                                               1000         NaN   \n",
       "top     Two imprisoned men bond over a number of years...         NaN   \n",
       "freq                                                    1         NaN   \n",
       "mean                                                  NaN   77.971530   \n",
       "std                                                   NaN   12.376099   \n",
       "min                                                   NaN   28.000000   \n",
       "25%                                                   NaN   70.000000   \n",
       "50%                                                   NaN   79.000000   \n",
       "75%                                                   NaN   87.000000   \n",
       "max                                                   NaN  100.000000   \n",
       "\n",
       "                Director      Star1        Star2         Star3          Star4  \\\n",
       "count               1000       1000         1000          1000           1000   \n",
       "unique               548        660          841           891            939   \n",
       "top     Alfred Hitchcock  Tom Hanks  Emma Watson  Rupert Grint  Michael Caine   \n",
       "freq                  14         12            7             5              4   \n",
       "mean                 NaN        NaN          NaN           NaN            NaN   \n",
       "std                  NaN        NaN          NaN           NaN            NaN   \n",
       "min                  NaN        NaN          NaN           NaN            NaN   \n",
       "25%                  NaN        NaN          NaN           NaN            NaN   \n",
       "50%                  NaN        NaN          NaN           NaN            NaN   \n",
       "75%                  NaN        NaN          NaN           NaN            NaN   \n",
       "max                  NaN        NaN          NaN           NaN            NaN   \n",
       "\n",
       "         No_of_Votes      Gross  \n",
       "count   1.000000e+03        831  \n",
       "unique           NaN        823  \n",
       "top              NaN  4,360,000  \n",
       "freq             NaN          5  \n",
       "mean    2.736929e+05        NaN  \n",
       "std     3.273727e+05        NaN  \n",
       "min     2.508800e+04        NaN  \n",
       "25%     5.552625e+04        NaN  \n",
       "50%     1.385485e+05        NaN  \n",
       "75%     3.741612e+05        NaN  \n",
       "max     2.343110e+06        NaN  "
      ]
     },
     "execution_count": 96,
     "metadata": {},
     "output_type": "execute_result"
    }
   ],
   "source": [
    "#import libraries\n",
    "import pandas as pd\n",
    "import sklearn \n",
    "import matplotlib.pyplot as plt\n",
    "import seaborn as sns\n",
    "import numpy as np\n",
    "import scipy.stats as stats\n",
    "from sklearn.preprocessing import LabelEncoder\n",
    "from sklearn.experimental import enable_iterative_imputer\n",
    "from sklearn.impute import IterativeImputer\n",
    "\n",
    "\n",
    "#load and generate descriptive statistics for primary dataframe\n",
    "data = pd.read_csv('imdb_top_1000.csv')\n",
    "data.describe(include='all')"
   ]
  },
  {
   "cell_type": "code",
   "execution_count": 16,
   "id": "33f29e3a",
   "metadata": {
    "scrolled": false
   },
   "outputs": [
    {
     "name": "stdout",
     "output_type": "stream",
     "text": [
      "<class 'pandas.core.frame.DataFrame'>\n",
      "RangeIndex: 1000 entries, 0 to 999\n",
      "Data columns (total 16 columns):\n",
      " #   Column         Non-Null Count  Dtype  \n",
      "---  ------         --------------  -----  \n",
      " 0   Poster_Link    1000 non-null   object \n",
      " 1   Series_Title   1000 non-null   object \n",
      " 2   Released_Year  1000 non-null   object \n",
      " 3   Certificate    899 non-null    object \n",
      " 4   Runtime        1000 non-null   object \n",
      " 5   Genre          1000 non-null   object \n",
      " 6   IMDB_Rating    1000 non-null   float64\n",
      " 7   Overview       1000 non-null   object \n",
      " 8   Meta_score     843 non-null    float64\n",
      " 9   Director       1000 non-null   object \n",
      " 10  Star1          1000 non-null   object \n",
      " 11  Star2          1000 non-null   object \n",
      " 12  Star3          1000 non-null   object \n",
      " 13  Star4          1000 non-null   object \n",
      " 14  No_of_Votes    1000 non-null   int64  \n",
      " 15  Gross          831 non-null    object \n",
      "dtypes: float64(2), int64(1), object(13)\n",
      "memory usage: 125.1+ KB\n"
     ]
    }
   ],
   "source": [
    "# Gather info regarding dtypes of features\n",
    "data.info()"
   ]
  },
  {
   "cell_type": "code",
   "execution_count": 2,
   "id": "543bf39e",
   "metadata": {
    "scrolled": true
   },
   "outputs": [
    {
     "name": "stdout",
     "output_type": "stream",
     "text": [
      "0\n",
      "['1994' '1972' '2008' '1974' '1957' '2003' '1993' '2010' '1999' '2001'\n",
      " '1966' '2002' '1990' '1980' '1975' '2020' '2019' '2014' '1998' '1997'\n",
      " '1995' '1991' '1977' '1962' '1954' '1946' '2011' '2006' '2000' '1988'\n",
      " '1985' '1968' '1960' '1942' '1936' '1931' '2018' '2017' '2016' '2012'\n",
      " '2009' '2007' '1984' '1981' '1979' '1971' '1963' '1964' '1950' '1940'\n",
      " '2013' '2005' '2004' '1992' '1987' '1986' '1983' '1976' '1973' '1965'\n",
      " '1959' '1958' '1952' '1948' '1944' '1941' '1927' '1921' '2015' '1996'\n",
      " '1989' '1978' '1961' '1955' '1953' '1925' '1924' '1982' '1967' '1951'\n",
      " '1949' '1939' '1937' '1934' '1928' '1926' '1920' '1970' '1969' '1956'\n",
      " '1947' '1945' '1930' '1938' '1935' '1933' '1932' '1922' '1943' 'PG']\n"
     ]
    }
   ],
   "source": [
    "# We begin preprocessing the Released Year column\n",
    "\n",
    "# Check for missing or invalid values in the \"Released Year\" feature\n",
    "\n",
    "#---------------------RESOLVED ISSUE---------------------\n",
    "# Unique values generated below for year column are strings rather than ints\n",
    "# We want to change that into an int\n",
    "\n",
    "print(data['Released_Year'].isna().sum()) # number of missing values = 0\n",
    "print(data['Released_Year'].unique()) # unique values in the column are strings entries with 1 'PG' entry"
   ]
  },
  {
   "cell_type": "code",
   "execution_count": 3,
   "id": "709ac911",
   "metadata": {},
   "outputs": [],
   "source": [
    "# If a value is numeric keep as is, if not then use lambda function to make the entry NaN\n",
    "\n",
    "# Lambda isnumeric() benefit: Will not effect string years because they can be converted to a numeric value\n",
    "data['Released_Year'] = data['Released_Year'].apply(lambda x: x if x.isnumeric() else None)\n",
    "\n",
    "# update the dataframe to the new column excluding the non-numeric data\n",
    "data['Released_Year'] = pd.to_numeric(data['Released_Year'])"
   ]
  },
  {
   "cell_type": "code",
   "execution_count": 4,
   "id": "4189b19d",
   "metadata": {
    "scrolled": true
   },
   "outputs": [
    {
     "name": "stdout",
     "output_type": "stream",
     "text": [
      "1\n",
      "[1994. 1972. 2008. 1974. 1957. 2003. 1993. 2010. 1999. 2001. 1966. 2002.\n",
      " 1990. 1980. 1975. 2020. 2019. 2014. 1998. 1997. 1995. 1991. 1977. 1962.\n",
      " 1954. 1946. 2011. 2006. 2000. 1988. 1985. 1968. 1960. 1942. 1936. 1931.\n",
      " 2018. 2017. 2016. 2012. 2009. 2007. 1984. 1981. 1979. 1971. 1963. 1964.\n",
      " 1950. 1940. 2013. 2005. 2004. 1992. 1987. 1986. 1983. 1976. 1973. 1965.\n",
      " 1959. 1958. 1952. 1948. 1944. 1941. 1927. 1921. 2015. 1996. 1989. 1978.\n",
      " 1961. 1955. 1953. 1925. 1924. 1982. 1967. 1951. 1949. 1939. 1937. 1934.\n",
      " 1928. 1926. 1920. 1970. 1969. 1956. 1947. 1945. 1930. 1938. 1935. 1933.\n",
      " 1932. 1922. 1943.   nan]\n"
     ]
    }
   ],
   "source": [
    "# Generate the NaN values and unique values again\n",
    "print(data['Released_Year'].isna().sum()) # number of missing (NaN) values = 1\n",
    "print(data['Released_Year'].unique()) # unique values in the column are now float entries (e.g. 1994.)"
   ]
  },
  {
   "cell_type": "code",
   "execution_count": 5,
   "id": "d3bce2be",
   "metadata": {
    "scrolled": true
   },
   "outputs": [
    {
     "name": "stdout",
     "output_type": "stream",
     "text": [
      "<class 'pandas.core.frame.DataFrame'>\n",
      "RangeIndex: 1000 entries, 0 to 999\n",
      "Data columns (total 16 columns):\n",
      " #   Column         Non-Null Count  Dtype  \n",
      "---  ------         --------------  -----  \n",
      " 0   Poster_Link    1000 non-null   object \n",
      " 1   Series_Title   1000 non-null   object \n",
      " 2   Released_Year  999 non-null    float64\n",
      " 3   Certificate    899 non-null    object \n",
      " 4   Runtime        1000 non-null   object \n",
      " 5   Genre          1000 non-null   object \n",
      " 6   IMDB_Rating    1000 non-null   float64\n",
      " 7   Overview       1000 non-null   object \n",
      " 8   Meta_score     843 non-null    float64\n",
      " 9   Director       1000 non-null   object \n",
      " 10  Star1          1000 non-null   object \n",
      " 11  Star2          1000 non-null   object \n",
      " 12  Star3          1000 non-null   object \n",
      " 13  Star4          1000 non-null   object \n",
      " 14  No_of_Votes    1000 non-null   int64  \n",
      " 15  Gross          831 non-null    object \n",
      "dtypes: float64(3), int64(1), object(12)\n",
      "memory usage: 125.1+ KB\n"
     ]
    }
   ],
   "source": [
    "#Check the dtype for released year\n",
    "data.info() #dtype for released year is now float for some reason"
   ]
  },
  {
   "cell_type": "code",
   "execution_count": 6,
   "id": "58d0b7da",
   "metadata": {
    "scrolled": true
   },
   "outputs": [
    {
     "name": "stdout",
     "output_type": "stream",
     "text": [
      "[1994 1972 2008 1974 1957 2003 1993 2010 1999 2001 1966 2002 1990 1980\n",
      " 1975 2020 2019 2014 1998 1997 1995 1991 1977 1962 1954 1946 2011 2006\n",
      " 2000 1988 1985 1968 1960 1942 1936 1931 2018 2017 2016 2012 2009 2007\n",
      " 1984 1981 1979 1971 1963 1964 1950 1940 2013 2005 2004 1992 1987 1986\n",
      " 1983 1976 1973 1965 1959 1958 1952 1948 1944 1941 1927 1921 2015 1996\n",
      " 1989 1978 1961 1955 1953 1925 1924 1982 1967 1951 1949 1939 1937 1934\n",
      " 1928 1926 1920 1970 1969 1956 1947 1945 1930 1938 1935 1933 1932 1922\n",
      " 1943]\n"
     ]
    }
   ],
   "source": [
    "# Take in account the new NaN value for the incorrect \"PG\" entry\n",
    "\n",
    "# Fill in the NaN value with the mean for the column as the correct imputation for numerical data\n",
    "data['Released_Year'] = data['Released_Year'].fillna(data[\"Released_Year\"].mean()).astype(int)\n",
    "\n",
    "# Update the new released year column with the imputation accounted for\n",
    "data['Released_Year'] = data['Released_Year'].astype(int)\n",
    "\n",
    "# Print the new unique values\n",
    "print(data['Released_Year'].unique()) # No more strings,floats, or NaN values - all are integers"
   ]
  },
  {
   "cell_type": "code",
   "execution_count": 7,
   "id": "6b1b60c4",
   "metadata": {},
   "outputs": [
    {
     "data": {
      "text/html": [
       "<div>\n",
       "<style scoped>\n",
       "    .dataframe tbody tr th:only-of-type {\n",
       "        vertical-align: middle;\n",
       "    }\n",
       "\n",
       "    .dataframe tbody tr th {\n",
       "        vertical-align: top;\n",
       "    }\n",
       "\n",
       "    .dataframe thead th {\n",
       "        text-align: right;\n",
       "    }\n",
       "</style>\n",
       "<table border=\"1\" class=\"dataframe\">\n",
       "  <thead>\n",
       "    <tr style=\"text-align: right;\">\n",
       "      <th></th>\n",
       "      <th>color</th>\n",
       "      <th>director_name</th>\n",
       "      <th>num_critic_for_reviews</th>\n",
       "      <th>duration</th>\n",
       "      <th>director_facebook_likes</th>\n",
       "      <th>actor_3_facebook_likes</th>\n",
       "      <th>actor_2_name</th>\n",
       "      <th>actor_1_facebook_likes</th>\n",
       "      <th>gross</th>\n",
       "      <th>genres</th>\n",
       "      <th>...</th>\n",
       "      <th>num_user_for_reviews</th>\n",
       "      <th>language</th>\n",
       "      <th>country</th>\n",
       "      <th>content_rating</th>\n",
       "      <th>budget</th>\n",
       "      <th>title_year</th>\n",
       "      <th>actor_2_facebook_likes</th>\n",
       "      <th>imdb_score</th>\n",
       "      <th>aspect_ratio</th>\n",
       "      <th>movie_facebook_likes</th>\n",
       "    </tr>\n",
       "  </thead>\n",
       "  <tbody>\n",
       "    <tr>\n",
       "      <th>count</th>\n",
       "      <td>5024</td>\n",
       "      <td>4939</td>\n",
       "      <td>4993.000000</td>\n",
       "      <td>5028.000000</td>\n",
       "      <td>4939.000000</td>\n",
       "      <td>5020.000000</td>\n",
       "      <td>5030</td>\n",
       "      <td>5036.000000</td>\n",
       "      <td>4.159000e+03</td>\n",
       "      <td>5043</td>\n",
       "      <td>...</td>\n",
       "      <td>5022.000000</td>\n",
       "      <td>5031</td>\n",
       "      <td>5038</td>\n",
       "      <td>4740</td>\n",
       "      <td>4.551000e+03</td>\n",
       "      <td>4935.000000</td>\n",
       "      <td>5030.000000</td>\n",
       "      <td>5043.000000</td>\n",
       "      <td>4714.000000</td>\n",
       "      <td>5043.000000</td>\n",
       "    </tr>\n",
       "    <tr>\n",
       "      <th>unique</th>\n",
       "      <td>2</td>\n",
       "      <td>2398</td>\n",
       "      <td>NaN</td>\n",
       "      <td>NaN</td>\n",
       "      <td>NaN</td>\n",
       "      <td>NaN</td>\n",
       "      <td>3032</td>\n",
       "      <td>NaN</td>\n",
       "      <td>NaN</td>\n",
       "      <td>914</td>\n",
       "      <td>...</td>\n",
       "      <td>NaN</td>\n",
       "      <td>47</td>\n",
       "      <td>65</td>\n",
       "      <td>18</td>\n",
       "      <td>NaN</td>\n",
       "      <td>NaN</td>\n",
       "      <td>NaN</td>\n",
       "      <td>NaN</td>\n",
       "      <td>NaN</td>\n",
       "      <td>NaN</td>\n",
       "    </tr>\n",
       "    <tr>\n",
       "      <th>top</th>\n",
       "      <td>Color</td>\n",
       "      <td>Steven Spielberg</td>\n",
       "      <td>NaN</td>\n",
       "      <td>NaN</td>\n",
       "      <td>NaN</td>\n",
       "      <td>NaN</td>\n",
       "      <td>Morgan Freeman</td>\n",
       "      <td>NaN</td>\n",
       "      <td>NaN</td>\n",
       "      <td>Drama</td>\n",
       "      <td>...</td>\n",
       "      <td>NaN</td>\n",
       "      <td>English</td>\n",
       "      <td>USA</td>\n",
       "      <td>R</td>\n",
       "      <td>NaN</td>\n",
       "      <td>NaN</td>\n",
       "      <td>NaN</td>\n",
       "      <td>NaN</td>\n",
       "      <td>NaN</td>\n",
       "      <td>NaN</td>\n",
       "    </tr>\n",
       "    <tr>\n",
       "      <th>freq</th>\n",
       "      <td>4815</td>\n",
       "      <td>26</td>\n",
       "      <td>NaN</td>\n",
       "      <td>NaN</td>\n",
       "      <td>NaN</td>\n",
       "      <td>NaN</td>\n",
       "      <td>20</td>\n",
       "      <td>NaN</td>\n",
       "      <td>NaN</td>\n",
       "      <td>236</td>\n",
       "      <td>...</td>\n",
       "      <td>NaN</td>\n",
       "      <td>4704</td>\n",
       "      <td>3807</td>\n",
       "      <td>2118</td>\n",
       "      <td>NaN</td>\n",
       "      <td>NaN</td>\n",
       "      <td>NaN</td>\n",
       "      <td>NaN</td>\n",
       "      <td>NaN</td>\n",
       "      <td>NaN</td>\n",
       "    </tr>\n",
       "    <tr>\n",
       "      <th>mean</th>\n",
       "      <td>NaN</td>\n",
       "      <td>NaN</td>\n",
       "      <td>140.194272</td>\n",
       "      <td>107.201074</td>\n",
       "      <td>686.509212</td>\n",
       "      <td>645.009761</td>\n",
       "      <td>NaN</td>\n",
       "      <td>6560.047061</td>\n",
       "      <td>4.846841e+07</td>\n",
       "      <td>NaN</td>\n",
       "      <td>...</td>\n",
       "      <td>272.770808</td>\n",
       "      <td>NaN</td>\n",
       "      <td>NaN</td>\n",
       "      <td>NaN</td>\n",
       "      <td>3.975262e+07</td>\n",
       "      <td>2002.470517</td>\n",
       "      <td>1651.754473</td>\n",
       "      <td>6.442138</td>\n",
       "      <td>2.220403</td>\n",
       "      <td>7525.964505</td>\n",
       "    </tr>\n",
       "    <tr>\n",
       "      <th>std</th>\n",
       "      <td>NaN</td>\n",
       "      <td>NaN</td>\n",
       "      <td>121.601675</td>\n",
       "      <td>25.197441</td>\n",
       "      <td>2813.328607</td>\n",
       "      <td>1665.041728</td>\n",
       "      <td>NaN</td>\n",
       "      <td>15020.759120</td>\n",
       "      <td>6.845299e+07</td>\n",
       "      <td>NaN</td>\n",
       "      <td>...</td>\n",
       "      <td>377.982886</td>\n",
       "      <td>NaN</td>\n",
       "      <td>NaN</td>\n",
       "      <td>NaN</td>\n",
       "      <td>2.061149e+08</td>\n",
       "      <td>12.474599</td>\n",
       "      <td>4042.438863</td>\n",
       "      <td>1.125116</td>\n",
       "      <td>1.385113</td>\n",
       "      <td>19320.445110</td>\n",
       "    </tr>\n",
       "    <tr>\n",
       "      <th>min</th>\n",
       "      <td>NaN</td>\n",
       "      <td>NaN</td>\n",
       "      <td>1.000000</td>\n",
       "      <td>7.000000</td>\n",
       "      <td>0.000000</td>\n",
       "      <td>0.000000</td>\n",
       "      <td>NaN</td>\n",
       "      <td>0.000000</td>\n",
       "      <td>1.620000e+02</td>\n",
       "      <td>NaN</td>\n",
       "      <td>...</td>\n",
       "      <td>1.000000</td>\n",
       "      <td>NaN</td>\n",
       "      <td>NaN</td>\n",
       "      <td>NaN</td>\n",
       "      <td>2.180000e+02</td>\n",
       "      <td>1916.000000</td>\n",
       "      <td>0.000000</td>\n",
       "      <td>1.600000</td>\n",
       "      <td>1.180000</td>\n",
       "      <td>0.000000</td>\n",
       "    </tr>\n",
       "    <tr>\n",
       "      <th>25%</th>\n",
       "      <td>NaN</td>\n",
       "      <td>NaN</td>\n",
       "      <td>50.000000</td>\n",
       "      <td>93.000000</td>\n",
       "      <td>7.000000</td>\n",
       "      <td>133.000000</td>\n",
       "      <td>NaN</td>\n",
       "      <td>614.000000</td>\n",
       "      <td>5.340988e+06</td>\n",
       "      <td>NaN</td>\n",
       "      <td>...</td>\n",
       "      <td>65.000000</td>\n",
       "      <td>NaN</td>\n",
       "      <td>NaN</td>\n",
       "      <td>NaN</td>\n",
       "      <td>6.000000e+06</td>\n",
       "      <td>1999.000000</td>\n",
       "      <td>281.000000</td>\n",
       "      <td>5.800000</td>\n",
       "      <td>1.850000</td>\n",
       "      <td>0.000000</td>\n",
       "    </tr>\n",
       "    <tr>\n",
       "      <th>50%</th>\n",
       "      <td>NaN</td>\n",
       "      <td>NaN</td>\n",
       "      <td>110.000000</td>\n",
       "      <td>103.000000</td>\n",
       "      <td>49.000000</td>\n",
       "      <td>371.500000</td>\n",
       "      <td>NaN</td>\n",
       "      <td>988.000000</td>\n",
       "      <td>2.551750e+07</td>\n",
       "      <td>NaN</td>\n",
       "      <td>...</td>\n",
       "      <td>156.000000</td>\n",
       "      <td>NaN</td>\n",
       "      <td>NaN</td>\n",
       "      <td>NaN</td>\n",
       "      <td>2.000000e+07</td>\n",
       "      <td>2005.000000</td>\n",
       "      <td>595.000000</td>\n",
       "      <td>6.600000</td>\n",
       "      <td>2.350000</td>\n",
       "      <td>166.000000</td>\n",
       "    </tr>\n",
       "    <tr>\n",
       "      <th>75%</th>\n",
       "      <td>NaN</td>\n",
       "      <td>NaN</td>\n",
       "      <td>195.000000</td>\n",
       "      <td>118.000000</td>\n",
       "      <td>194.500000</td>\n",
       "      <td>636.000000</td>\n",
       "      <td>NaN</td>\n",
       "      <td>11000.000000</td>\n",
       "      <td>6.230944e+07</td>\n",
       "      <td>NaN</td>\n",
       "      <td>...</td>\n",
       "      <td>326.000000</td>\n",
       "      <td>NaN</td>\n",
       "      <td>NaN</td>\n",
       "      <td>NaN</td>\n",
       "      <td>4.500000e+07</td>\n",
       "      <td>2011.000000</td>\n",
       "      <td>918.000000</td>\n",
       "      <td>7.200000</td>\n",
       "      <td>2.350000</td>\n",
       "      <td>3000.000000</td>\n",
       "    </tr>\n",
       "    <tr>\n",
       "      <th>max</th>\n",
       "      <td>NaN</td>\n",
       "      <td>NaN</td>\n",
       "      <td>813.000000</td>\n",
       "      <td>511.000000</td>\n",
       "      <td>23000.000000</td>\n",
       "      <td>23000.000000</td>\n",
       "      <td>NaN</td>\n",
       "      <td>640000.000000</td>\n",
       "      <td>7.605058e+08</td>\n",
       "      <td>NaN</td>\n",
       "      <td>...</td>\n",
       "      <td>5060.000000</td>\n",
       "      <td>NaN</td>\n",
       "      <td>NaN</td>\n",
       "      <td>NaN</td>\n",
       "      <td>1.221550e+10</td>\n",
       "      <td>2016.000000</td>\n",
       "      <td>137000.000000</td>\n",
       "      <td>9.500000</td>\n",
       "      <td>16.000000</td>\n",
       "      <td>349000.000000</td>\n",
       "    </tr>\n",
       "  </tbody>\n",
       "</table>\n",
       "<p>11 rows × 28 columns</p>\n",
       "</div>"
      ],
      "text/plain": [
       "        color     director_name  num_critic_for_reviews     duration  \\\n",
       "count    5024              4939             4993.000000  5028.000000   \n",
       "unique      2              2398                     NaN          NaN   \n",
       "top     Color  Steven Spielberg                     NaN          NaN   \n",
       "freq     4815                26                     NaN          NaN   \n",
       "mean      NaN               NaN              140.194272   107.201074   \n",
       "std       NaN               NaN              121.601675    25.197441   \n",
       "min       NaN               NaN                1.000000     7.000000   \n",
       "25%       NaN               NaN               50.000000    93.000000   \n",
       "50%       NaN               NaN              110.000000   103.000000   \n",
       "75%       NaN               NaN              195.000000   118.000000   \n",
       "max       NaN               NaN              813.000000   511.000000   \n",
       "\n",
       "        director_facebook_likes  actor_3_facebook_likes    actor_2_name  \\\n",
       "count               4939.000000             5020.000000            5030   \n",
       "unique                      NaN                     NaN            3032   \n",
       "top                         NaN                     NaN  Morgan Freeman   \n",
       "freq                        NaN                     NaN              20   \n",
       "mean                 686.509212              645.009761             NaN   \n",
       "std                 2813.328607             1665.041728             NaN   \n",
       "min                    0.000000                0.000000             NaN   \n",
       "25%                    7.000000              133.000000             NaN   \n",
       "50%                   49.000000              371.500000             NaN   \n",
       "75%                  194.500000              636.000000             NaN   \n",
       "max                23000.000000            23000.000000             NaN   \n",
       "\n",
       "        actor_1_facebook_likes         gross genres  ... num_user_for_reviews  \\\n",
       "count              5036.000000  4.159000e+03   5043  ...          5022.000000   \n",
       "unique                     NaN           NaN    914  ...                  NaN   \n",
       "top                        NaN           NaN  Drama  ...                  NaN   \n",
       "freq                       NaN           NaN    236  ...                  NaN   \n",
       "mean               6560.047061  4.846841e+07    NaN  ...           272.770808   \n",
       "std               15020.759120  6.845299e+07    NaN  ...           377.982886   \n",
       "min                   0.000000  1.620000e+02    NaN  ...             1.000000   \n",
       "25%                 614.000000  5.340988e+06    NaN  ...            65.000000   \n",
       "50%                 988.000000  2.551750e+07    NaN  ...           156.000000   \n",
       "75%               11000.000000  6.230944e+07    NaN  ...           326.000000   \n",
       "max              640000.000000  7.605058e+08    NaN  ...          5060.000000   \n",
       "\n",
       "       language  country  content_rating        budget   title_year  \\\n",
       "count      5031     5038            4740  4.551000e+03  4935.000000   \n",
       "unique       47       65              18           NaN          NaN   \n",
       "top     English      USA               R           NaN          NaN   \n",
       "freq       4704     3807            2118           NaN          NaN   \n",
       "mean        NaN      NaN             NaN  3.975262e+07  2002.470517   \n",
       "std         NaN      NaN             NaN  2.061149e+08    12.474599   \n",
       "min         NaN      NaN             NaN  2.180000e+02  1916.000000   \n",
       "25%         NaN      NaN             NaN  6.000000e+06  1999.000000   \n",
       "50%         NaN      NaN             NaN  2.000000e+07  2005.000000   \n",
       "75%         NaN      NaN             NaN  4.500000e+07  2011.000000   \n",
       "max         NaN      NaN             NaN  1.221550e+10  2016.000000   \n",
       "\n",
       "       actor_2_facebook_likes   imdb_score  aspect_ratio movie_facebook_likes  \n",
       "count             5030.000000  5043.000000   4714.000000          5043.000000  \n",
       "unique                    NaN          NaN           NaN                  NaN  \n",
       "top                       NaN          NaN           NaN                  NaN  \n",
       "freq                      NaN          NaN           NaN                  NaN  \n",
       "mean              1651.754473     6.442138      2.220403          7525.964505  \n",
       "std               4042.438863     1.125116      1.385113         19320.445110  \n",
       "min                  0.000000     1.600000      1.180000             0.000000  \n",
       "25%                281.000000     5.800000      1.850000             0.000000  \n",
       "50%                595.000000     6.600000      2.350000           166.000000  \n",
       "75%                918.000000     7.200000      2.350000          3000.000000  \n",
       "max             137000.000000     9.500000     16.000000        349000.000000  \n",
       "\n",
       "[11 rows x 28 columns]"
      ]
     },
     "execution_count": 7,
     "metadata": {},
     "output_type": "execute_result"
    }
   ],
   "source": [
    "#Now load new dataframe with 5000 IMDB entries and generate descriptive statistics\n",
    "data2 = pd.read_csv('imdb_top_5000.csv')\n",
    "data2.describe(include='all')\n"
   ]
  },
  {
   "cell_type": "code",
   "execution_count": 8,
   "id": "6bdf6cea",
   "metadata": {
    "scrolled": true
   },
   "outputs": [
    {
     "name": "stdout",
     "output_type": "stream",
     "text": [
      "<class 'pandas.core.frame.DataFrame'>\n",
      "RangeIndex: 1000 entries, 0 to 999\n",
      "Data columns (total 16 columns):\n",
      " #   Column         Non-Null Count  Dtype  \n",
      "---  ------         --------------  -----  \n",
      " 0   Poster_Link    1000 non-null   object \n",
      " 1   Series_Title   1000 non-null   object \n",
      " 2   Released_Year  1000 non-null   int64  \n",
      " 3   Certificate    899 non-null    object \n",
      " 4   Runtime        1000 non-null   object \n",
      " 5   Genre          1000 non-null   object \n",
      " 6   IMDB_Rating    1000 non-null   float64\n",
      " 7   Overview       1000 non-null   object \n",
      " 8   Meta_score     843 non-null    float64\n",
      " 9   Director       1000 non-null   object \n",
      " 10  Star1          1000 non-null   object \n",
      " 11  Star2          1000 non-null   object \n",
      " 12  Star3          1000 non-null   object \n",
      " 13  Star4          1000 non-null   object \n",
      " 14  No_of_Votes    1000 non-null   int64  \n",
      " 15  Gross          831 non-null    object \n",
      "dtypes: float64(2), int64(2), object(12)\n",
      "memory usage: 125.1+ KB\n"
     ]
    }
   ],
   "source": [
    "#Now the Released Year has been converted into an integer and the imputation for 'PG' is complete\n",
    "data.info()"
   ]
  },
  {
   "cell_type": "code",
   "execution_count": 9,
   "id": "6604748c",
   "metadata": {
    "scrolled": true
   },
   "outputs": [
    {
     "name": "stdout",
     "output_type": "stream",
     "text": [
      "<class 'pandas.core.frame.DataFrame'>\n",
      "RangeIndex: 5043 entries, 0 to 5042\n",
      "Data columns (total 28 columns):\n",
      " #   Column                     Non-Null Count  Dtype  \n",
      "---  ------                     --------------  -----  \n",
      " 0   color                      5024 non-null   object \n",
      " 1   director_name              4939 non-null   object \n",
      " 2   num_critic_for_reviews     4993 non-null   float64\n",
      " 3   duration                   5028 non-null   float64\n",
      " 4   director_facebook_likes    4939 non-null   float64\n",
      " 5   actor_3_facebook_likes     5020 non-null   float64\n",
      " 6   actor_2_name               5030 non-null   object \n",
      " 7   actor_1_facebook_likes     5036 non-null   float64\n",
      " 8   gross                      4159 non-null   float64\n",
      " 9   genres                     5043 non-null   object \n",
      " 10  actor_1_name               5036 non-null   object \n",
      " 11  movie_title                5043 non-null   object \n",
      " 12  num_voted_users            5043 non-null   int64  \n",
      " 13  cast_total_facebook_likes  5043 non-null   int64  \n",
      " 14  actor_3_name               5020 non-null   object \n",
      " 15  facenumber_in_poster       5030 non-null   float64\n",
      " 16  plot_keywords              4890 non-null   object \n",
      " 17  movie_imdb_link            5043 non-null   object \n",
      " 18  num_user_for_reviews       5022 non-null   float64\n",
      " 19  language                   5031 non-null   object \n",
      " 20  country                    5038 non-null   object \n",
      " 21  content_rating             4740 non-null   object \n",
      " 22  budget                     4551 non-null   float64\n",
      " 23  title_year                 4935 non-null   float64\n",
      " 24  actor_2_facebook_likes     5030 non-null   float64\n",
      " 25  imdb_score                 5043 non-null   float64\n",
      " 26  aspect_ratio               4714 non-null   float64\n",
      " 27  movie_facebook_likes       5043 non-null   int64  \n",
      "dtypes: float64(13), int64(3), object(12)\n",
      "memory usage: 1.1+ MB\n"
     ]
    }
   ],
   "source": [
    "#initially contains 5043 data entries \n",
    "data2.info()"
   ]
  },
  {
   "cell_type": "code",
   "execution_count": null,
   "id": "59527007",
   "metadata": {},
   "outputs": [],
   "source": [
    "# What to keep for IMDB 1000 Features and what to drop\n",
    "#--------------------------------------------------------\n",
    "#1. Drop Poster_Link - dont need this feature\n",
    "#2. Merge Series_Title = movie_title\n",
    "#3. Released_Year = title_year\n",
    "#4. Certificate = content_rating\n",
    "#5. Genre = genres\n",
    "#6. IMDB_Rating = imdb_score\n",
    "#7. Runtime = duration\n",
    "#8. Drop Overview - the plot keywords likely has this info for the 1000 and if not we can impute it\n",
    "#9. Drop metascore - useless feature (weighted average reviews from top critics)\n",
    "#10. Director = director_name\n",
    "#11. Star1 = actor_1_name\n",
    "#12. Star2 = actor_2_name\n",
    "#13. Star3 = actor_3_name\n",
    "#14. Drop Star4 - we will be missing 4000 entries for a 4th actor\n",
    "#15. Drop No_of_Votes - since it doesnt specify critics or users which 5000 dataframe does\n",
    "#16. Gross = gross\n",
    "\n",
    "# Tasks after loading both datasets\n",
    "#--------------------------------------------------------\n",
    "#1. Normalize the movie titles in both dataframes to get rid of inconsistencies so it matches\n",
    "#2. Drop the 1000 IMDB features that we don't need (listed above)\n",
    "#3. Rename the features in 5000 IMDB dataframe to match the first\n",
    "#4. Concatenate the two dataframes \n",
    "#5. Drop duplicate entries using the drop method\n",
    "#6. Save the merged dataframe to a new csv"
   ]
  },
  {
   "cell_type": "code",
   "execution_count": 10,
   "id": "4c1bccb0",
   "metadata": {
    "scrolled": false
   },
   "outputs": [],
   "source": [
    "#1. Normalize the movie titles in both dataframes to get rid of inconsistencies so it matches\n",
    "data['movie_title'] = data['Series_Title'].str.lower().str.strip()\n",
    "data2['movie_title'] = data2['movie_title'].str.lower().str.strip()\n",
    "\n",
    "\n",
    "# disregard KeyError, I accidently tried to run this old code and neglected to realize \n",
    "# 'Series_Title' has been renamed in line 2"
   ]
  },
  {
   "cell_type": "code",
   "execution_count": 11,
   "id": "feb37156",
   "metadata": {},
   "outputs": [],
   "source": [
    "#2. Drop the 1000 IMDB features that we don't need (listed above)\n",
    "# Poster_Link, Overview, Meta_score, Star4, No_of_Votes, \n",
    "\n",
    "data = data.drop(['Poster_Link', 'Overview', 'Meta_score', 'Star4', 'No_of_Votes'], axis=1)"
   ]
  },
  {
   "cell_type": "code",
   "execution_count": 12,
   "id": "2783a79c",
   "metadata": {},
   "outputs": [],
   "source": [
    "#3. Rename the features in 5000 IMDB dataframe to match the first\n",
    "# Series_Title = movie_title, Released_Year = title_year, Certificate = content_rating, Genre = genres\n",
    "# IMDB_Rating = imdb_score, Runtime = duration, Director = director_name, Star1 = actor_1_name\n",
    "# Star2 = actor_2_name, Star3 = actor_3_name, Gross = gross\n",
    "\n",
    "data = data.rename(columns={\n",
    "    # Renamed features\n",
    "    'Series_Title': 'movie_title',\n",
    "    'Released_Year': 'title_year',\n",
    "    'Certificate': 'content_rating',\n",
    "    'Genre': 'genres',\n",
    "    'IMDB_Rating': 'imdb_score',\n",
    "    'Runtime': 'duration',\n",
    "    'Director': 'director_name',\n",
    "    'Star1': 'actor_1_name',\n",
    "    'Star2': 'actor_2_name',\n",
    "    'Star3': 'actor_3_name',\n",
    "    'Gross': 'gross'\n",
    "})\n"
   ]
  },
  {
   "cell_type": "code",
   "execution_count": 13,
   "id": "ed3c33b7",
   "metadata": {},
   "outputs": [],
   "source": [
    "# Prior to merging both dataframes I got the error that there were duplicate movie entries in each dataframe\n",
    "# ERROR \"The column label 'movie_title' is not unique.\"\n",
    "\n",
    "#Now individually droping duplicates has worked and prepared the environment for a merge\n",
    "\n",
    "data = data.drop_duplicates(subset=['movie_title'])\n",
    "data2 = data2.drop_duplicates(subset=['movie_title'])\n",
    "\n",
    "# Aftering generating info on both dataframes, I see that only 1 duplicate entry existed for 1st dataframe\n",
    "# Dataframe 2, however, has gone from a range of 5043 entries to 4916 --> this had the most duplicate entries"
   ]
  },
  {
   "cell_type": "code",
   "execution_count": 14,
   "id": "1bf8212b",
   "metadata": {},
   "outputs": [],
   "source": [
    "# I accidently duplicated movie_title in 'data' dataframe\n",
    "# So I located duplicate columns in data and deleted it\n",
    "\n",
    "data = data.loc[:, ~data.columns.duplicated()]\n",
    "\n"
   ]
  },
  {
   "cell_type": "code",
   "execution_count": 15,
   "id": "98d2f62c",
   "metadata": {
    "scrolled": true
   },
   "outputs": [
    {
     "name": "stdout",
     "output_type": "stream",
     "text": [
      "<class 'pandas.core.frame.DataFrame'>\n",
      "Int64Index: 999 entries, 0 to 999\n",
      "Data columns (total 11 columns):\n",
      " #   Column          Non-Null Count  Dtype  \n",
      "---  ------          --------------  -----  \n",
      " 0   movie_title     999 non-null    object \n",
      " 1   title_year      999 non-null    int64  \n",
      " 2   content_rating  898 non-null    object \n",
      " 3   duration        999 non-null    object \n",
      " 4   genres          999 non-null    object \n",
      " 5   imdb_score      999 non-null    float64\n",
      " 6   director_name   999 non-null    object \n",
      " 7   actor_1_name    999 non-null    object \n",
      " 8   actor_2_name    999 non-null    object \n",
      " 9   actor_3_name    999 non-null    object \n",
      " 10  gross           830 non-null    object \n",
      "dtypes: float64(1), int64(1), object(9)\n",
      "memory usage: 93.7+ KB\n"
     ]
    }
   ],
   "source": [
    "data.info()"
   ]
  },
  {
   "cell_type": "code",
   "execution_count": 16,
   "id": "c5f3ea87",
   "metadata": {},
   "outputs": [],
   "source": [
    "# delete 'mins'\n",
    "data['duration'] = data['duration'].str.replace('min', '')\n",
    "data['duration'] = data['duration'].astype('Int64')"
   ]
  },
  {
   "cell_type": "code",
   "execution_count": 19,
   "id": "bdbe6a25",
   "metadata": {},
   "outputs": [],
   "source": [
    "# delete commas in the gross feature\n",
    "data['gross'] = data['gross'].str.replace(',', '')\n",
    "data['gross'] = data['gross'].astype('Int64')"
   ]
  },
  {
   "cell_type": "code",
   "execution_count": 20,
   "id": "78f5b9cd",
   "metadata": {
    "scrolled": false
   },
   "outputs": [
    {
     "name": "stdout",
     "output_type": "stream",
     "text": [
      "<class 'pandas.core.frame.DataFrame'>\n",
      "Int64Index: 999 entries, 0 to 999\n",
      "Data columns (total 11 columns):\n",
      " #   Column          Non-Null Count  Dtype  \n",
      "---  ------          --------------  -----  \n",
      " 0   movie_title     999 non-null    object \n",
      " 1   title_year      999 non-null    int64  \n",
      " 2   content_rating  898 non-null    object \n",
      " 3   duration        999 non-null    Int64  \n",
      " 4   genres          999 non-null    object \n",
      " 5   imdb_score      999 non-null    float64\n",
      " 6   director_name   999 non-null    object \n",
      " 7   actor_1_name    999 non-null    object \n",
      " 8   actor_2_name    999 non-null    object \n",
      " 9   actor_3_name    999 non-null    object \n",
      " 10  gross           830 non-null    Int64  \n",
      "dtypes: Int64(2), float64(1), int64(1), object(7)\n",
      "memory usage: 95.6+ KB\n"
     ]
    }
   ],
   "source": [
    "data.info()"
   ]
  },
  {
   "cell_type": "code",
   "execution_count": null,
   "id": "3d57d006",
   "metadata": {},
   "outputs": [],
   "source": [
    "# Here we can perform imputation on missing values prior to merging"
   ]
  },
  {
   "cell_type": "code",
   "execution_count": 33,
   "id": "b1b9e361",
   "metadata": {},
   "outputs": [],
   "source": [
    "# imputation for content_rating using mode\n",
    "data['content_rating'].fillna(value=data['content_rating'].mode()[0], inplace=True)"
   ]
  },
  {
   "cell_type": "code",
   "execution_count": 44,
   "id": "db10f7ca",
   "metadata": {
    "scrolled": false
   },
   "outputs": [],
   "source": [
    "# The skew method shows that it has an extreme positive skew over 3 so we will use median rather than mean\n",
    "data['gross'].skew()\n",
    "\n",
    "median_gross = int(data['gross'].median())\n",
    "data['gross'].fillna(median_gross, inplace=True)\n"
   ]
  },
  {
   "cell_type": "code",
   "execution_count": 45,
   "id": "3dc4d382",
   "metadata": {},
   "outputs": [
    {
     "name": "stdout",
     "output_type": "stream",
     "text": [
      "<class 'pandas.core.frame.DataFrame'>\n",
      "Int64Index: 999 entries, 0 to 999\n",
      "Data columns (total 11 columns):\n",
      " #   Column          Non-Null Count  Dtype  \n",
      "---  ------          --------------  -----  \n",
      " 0   movie_title     999 non-null    object \n",
      " 1   title_year      999 non-null    int64  \n",
      " 2   content_rating  999 non-null    object \n",
      " 3   duration        999 non-null    Int64  \n",
      " 4   genres          999 non-null    object \n",
      " 5   imdb_score      999 non-null    float64\n",
      " 6   director_name   999 non-null    object \n",
      " 7   actor_1_name    999 non-null    object \n",
      " 8   actor_2_name    999 non-null    object \n",
      " 9   actor_3_name    999 non-null    object \n",
      " 10  gross           999 non-null    Int64  \n",
      "dtypes: Int64(2), float64(1), int64(1), object(7)\n",
      "memory usage: 95.6+ KB\n"
     ]
    }
   ],
   "source": [
    "# all values have been imputed in dataframe 1\n",
    "data.info()"
   ]
  },
  {
   "cell_type": "code",
   "execution_count": 21,
   "id": "b5444ca9",
   "metadata": {},
   "outputs": [
    {
     "name": "stdout",
     "output_type": "stream",
     "text": [
      "<class 'pandas.core.frame.DataFrame'>\n",
      "Int64Index: 4916 entries, 0 to 5042\n",
      "Data columns (total 28 columns):\n",
      " #   Column                     Non-Null Count  Dtype  \n",
      "---  ------                     --------------  -----  \n",
      " 0   color                      4897 non-null   object \n",
      " 1   director_name              4814 non-null   object \n",
      " 2   num_critic_for_reviews     4867 non-null   float64\n",
      " 3   duration                   4901 non-null   float64\n",
      " 4   director_facebook_likes    4814 non-null   float64\n",
      " 5   actor_3_facebook_likes     4893 non-null   float64\n",
      " 6   actor_2_name               4903 non-null   object \n",
      " 7   actor_1_facebook_likes     4909 non-null   float64\n",
      " 8   gross                      4054 non-null   float64\n",
      " 9   genres                     4916 non-null   object \n",
      " 10  actor_1_name               4909 non-null   object \n",
      " 11  movie_title                4916 non-null   object \n",
      " 12  num_voted_users            4916 non-null   int64  \n",
      " 13  cast_total_facebook_likes  4916 non-null   int64  \n",
      " 14  actor_3_name               4893 non-null   object \n",
      " 15  facenumber_in_poster       4903 non-null   float64\n",
      " 16  plot_keywords              4764 non-null   object \n",
      " 17  movie_imdb_link            4916 non-null   object \n",
      " 18  num_user_for_reviews       4895 non-null   float64\n",
      " 19  language                   4904 non-null   object \n",
      " 20  country                    4911 non-null   object \n",
      " 21  content_rating             4616 non-null   object \n",
      " 22  budget                     4432 non-null   float64\n",
      " 23  title_year                 4810 non-null   float64\n",
      " 24  actor_2_facebook_likes     4903 non-null   float64\n",
      " 25  imdb_score                 4916 non-null   float64\n",
      " 26  aspect_ratio               4590 non-null   float64\n",
      " 27  movie_facebook_likes       4916 non-null   int64  \n",
      "dtypes: float64(13), int64(3), object(12)\n",
      "memory usage: 1.1+ MB\n"
     ]
    }
   ],
   "source": [
    "data2.info()"
   ]
  },
  {
   "cell_type": "code",
   "execution_count": 22,
   "id": "3fcb67c4",
   "metadata": {},
   "outputs": [],
   "source": [
    "data2.drop(['director_facebook_likes', 'actor_3_facebook_likes', 'actor_1_facebook_likes',\n",
    "                'cast_total_facebook_likes', 'facenumber_in_poster', 'plot_keywords', \n",
    "                'movie_imdb_link', 'actor_2_facebook_likes', 'aspect_ratio', 'movie_facebook_likes'],\n",
    "               axis=1, inplace=True)\n",
    "\n",
    "\n"
   ]
  },
  {
   "cell_type": "code",
   "execution_count": 23,
   "id": "39a21078",
   "metadata": {
    "scrolled": true
   },
   "outputs": [
    {
     "name": "stdout",
     "output_type": "stream",
     "text": [
      "<class 'pandas.core.frame.DataFrame'>\n",
      "Int64Index: 4916 entries, 0 to 5042\n",
      "Data columns (total 18 columns):\n",
      " #   Column                  Non-Null Count  Dtype  \n",
      "---  ------                  --------------  -----  \n",
      " 0   color                   4897 non-null   object \n",
      " 1   director_name           4814 non-null   object \n",
      " 2   num_critic_for_reviews  4867 non-null   float64\n",
      " 3   duration                4901 non-null   float64\n",
      " 4   actor_2_name            4903 non-null   object \n",
      " 5   gross                   4054 non-null   float64\n",
      " 6   genres                  4916 non-null   object \n",
      " 7   actor_1_name            4909 non-null   object \n",
      " 8   movie_title             4916 non-null   object \n",
      " 9   num_voted_users         4916 non-null   int64  \n",
      " 10  actor_3_name            4893 non-null   object \n",
      " 11  num_user_for_reviews    4895 non-null   float64\n",
      " 12  language                4904 non-null   object \n",
      " 13  country                 4911 non-null   object \n",
      " 14  content_rating          4616 non-null   object \n",
      " 15  budget                  4432 non-null   float64\n",
      " 16  title_year              4810 non-null   float64\n",
      " 17  imdb_score              4916 non-null   float64\n",
      "dtypes: float64(7), int64(1), object(10)\n",
      "memory usage: 729.7+ KB\n"
     ]
    }
   ],
   "source": [
    "data2.info()"
   ]
  },
  {
   "cell_type": "code",
   "execution_count": 24,
   "id": "1f9bfe51",
   "metadata": {},
   "outputs": [],
   "source": [
    "data2['num_critic_for_reviews'] = data2['num_critic_for_reviews'].astype('Int64')\n",
    "data2['num_voted_users'] = data2['num_voted_users'].astype('Int64')\n",
    "data2['num_user_for_reviews'] = data2['num_user_for_reviews'].astype('Int64')\n",
    "data2['budget'] = data2['budget'].astype('Int64')\n"
   ]
  },
  {
   "cell_type": "code",
   "execution_count": 26,
   "id": "4bb74347",
   "metadata": {},
   "outputs": [],
   "source": [
    "data2['title_year'] = data2['title_year'].astype('Int64')"
   ]
  },
  {
   "cell_type": "code",
   "execution_count": 28,
   "id": "ec6282ea",
   "metadata": {},
   "outputs": [],
   "source": [
    "data2['duration'] = data2['duration'].astype('Int64')"
   ]
  },
  {
   "cell_type": "code",
   "execution_count": 30,
   "id": "17b5ef6d",
   "metadata": {},
   "outputs": [],
   "source": [
    "data2['gross'] = data2['gross'].astype('Int64')"
   ]
  },
  {
   "cell_type": "code",
   "execution_count": 31,
   "id": "887f2fbf",
   "metadata": {
    "scrolled": false
   },
   "outputs": [
    {
     "name": "stdout",
     "output_type": "stream",
     "text": [
      "<class 'pandas.core.frame.DataFrame'>\n",
      "Int64Index: 4916 entries, 0 to 5042\n",
      "Data columns (total 18 columns):\n",
      " #   Column                  Non-Null Count  Dtype  \n",
      "---  ------                  --------------  -----  \n",
      " 0   color                   4897 non-null   object \n",
      " 1   director_name           4814 non-null   object \n",
      " 2   num_critic_for_reviews  4867 non-null   Int64  \n",
      " 3   duration                4901 non-null   Int64  \n",
      " 4   actor_2_name            4903 non-null   object \n",
      " 5   gross                   4054 non-null   Int64  \n",
      " 6   genres                  4916 non-null   object \n",
      " 7   actor_1_name            4909 non-null   object \n",
      " 8   movie_title             4916 non-null   object \n",
      " 9   num_voted_users         4916 non-null   Int64  \n",
      " 10  actor_3_name            4893 non-null   object \n",
      " 11  num_user_for_reviews    4895 non-null   Int64  \n",
      " 12  language                4904 non-null   object \n",
      " 13  country                 4911 non-null   object \n",
      " 14  content_rating          4616 non-null   object \n",
      " 15  budget                  4432 non-null   Int64  \n",
      " 16  title_year              4810 non-null   Int64  \n",
      " 17  imdb_score              4916 non-null   float64\n",
      "dtypes: Int64(7), float64(1), object(10)\n",
      "memory usage: 763.3+ KB\n"
     ]
    }
   ],
   "source": [
    "data2.info()"
   ]
  },
  {
   "cell_type": "code",
   "execution_count": null,
   "id": "b3ff1d61",
   "metadata": {},
   "outputs": [],
   "source": [
    "# Now we impute all values for dataframe 2"
   ]
  },
  {
   "cell_type": "code",
   "execution_count": 46,
   "id": "f73e6f0f",
   "metadata": {},
   "outputs": [],
   "source": [
    "# Impute missing values in color column with mode\n",
    "data2['color'].fillna(value=data2['color'].mode()[0], inplace=True)\n"
   ]
  },
  {
   "cell_type": "code",
   "execution_count": 48,
   "id": "af2491d4",
   "metadata": {},
   "outputs": [],
   "source": [
    "# Impute 100 missing values in director name column with mode\n",
    "data2['director_name'].fillna(value=data2['director_name'].mode()[0], inplace=True)"
   ]
  },
  {
   "cell_type": "code",
   "execution_count": 55,
   "id": "e55f2991",
   "metadata": {
    "scrolled": true
   },
   "outputs": [],
   "source": [
    "# The skew method shows that it has an extreme positive skew of 1.5 so we will use median rather than mean\n",
    "# imputing for 15 missing values\n",
    "data2['duration'].skew()\n",
    "\n",
    "median_duration= int(data2['duration'].median())\n",
    "data2['duration'].fillna(median_duration, inplace=True)"
   ]
  },
  {
   "cell_type": "code",
   "execution_count": 57,
   "id": "4fc14236",
   "metadata": {},
   "outputs": [],
   "source": [
    "# imputation for actor_2_name using mode\n",
    "data2['actor_2_name'].fillna(value=data2['actor_2_name'].mode()[0], inplace=True)"
   ]
  },
  {
   "cell_type": "code",
   "execution_count": 62,
   "id": "103be745",
   "metadata": {},
   "outputs": [],
   "source": [
    "# The skew method shows that it has an extreme positive skew of over 3 so we will use median rather than mean\n",
    "# imputing for 862 missing values\n",
    "\n",
    "data2['gross'].skew()\n",
    "\n",
    "median_gross = int(data2['gross'].median())\n",
    "data2['gross'].fillna(median_gross, inplace=True)"
   ]
  },
  {
   "cell_type": "code",
   "execution_count": 54,
   "id": "2081aff5",
   "metadata": {},
   "outputs": [
    {
     "data": {
      "text/plain": [
       "2.357977090895568"
      ]
     },
     "execution_count": 54,
     "metadata": {},
     "output_type": "execute_result"
    }
   ],
   "source": [
    "# The skew method shows that it has an extreme positive skew of 2 so we will use median rather than mean\n",
    "# imputing for 49 missing values\n",
    "data2['num_critic_for_reviews'].skew()\n",
    "\n",
    "median_num_critic = int(data2['num_critic_for_reviews'].median())\n",
    "data2['num_critic_for_reviews'].fillna(median_num_critic, inplace=True)"
   ]
  },
  {
   "cell_type": "code",
   "execution_count": 64,
   "id": "c5d6c919",
   "metadata": {
    "scrolled": true
   },
   "outputs": [],
   "source": [
    "# imputation for actor_1_name using mode\n",
    "# 13 missing values\n",
    "data2['actor_1_name'].fillna(value=data2['actor_1_name'].mode()[0], inplace=True)"
   ]
  },
  {
   "cell_type": "code",
   "execution_count": 66,
   "id": "65fd6302",
   "metadata": {},
   "outputs": [],
   "source": [
    "# imputation for actor_3_name using mode\n",
    "# 7 missing values\n",
    "data2['actor_3_name'].fillna(value=data2['actor_3_name'].mode()[0], inplace=True)"
   ]
  },
  {
   "cell_type": "code",
   "execution_count": 69,
   "id": "526619ce",
   "metadata": {},
   "outputs": [],
   "source": [
    "# The skew method shows that it has an extreme positive skew of over 4 so we will use median rather than mean\n",
    "# imputing for 21 missing values\n",
    "data2['num_user_for_reviews'].skew()\n",
    "\n",
    "median_num_user = int(data2['num_user_for_reviews'].median())\n",
    "data2['num_user_for_reviews'].fillna(median_num_user, inplace=True)"
   ]
  },
  {
   "cell_type": "code",
   "execution_count": 71,
   "id": "2597ac27",
   "metadata": {
    "scrolled": true
   },
   "outputs": [],
   "source": [
    "# impute language using mode\n",
    "# 12 missing values\n",
    "data2['language'].fillna(value=data2['language'].mode()[0], inplace=True)"
   ]
  },
  {
   "cell_type": "code",
   "execution_count": 73,
   "id": "48849b8e",
   "metadata": {},
   "outputs": [],
   "source": [
    "# impute country using mode\n",
    "# 5 missing values\n",
    "data2['country'].fillna(value=data2['country'].mode()[0], inplace=True)"
   ]
  },
  {
   "cell_type": "code",
   "execution_count": 75,
   "id": "a1b162b4",
   "metadata": {},
   "outputs": [],
   "source": [
    "# impute content rating using mode\n",
    "# 300 missing values\n",
    "data2['content_rating'].fillna(value=data2['content_rating'].mode()[0], inplace=True)"
   ]
  },
  {
   "cell_type": "code",
   "execution_count": 78,
   "id": "2a67bb83",
   "metadata": {},
   "outputs": [],
   "source": [
    "# The skew method shows that it has an extreme positive skew of over 25 so we will use median rather than mean\n",
    "# imputing for 484 missing values\n",
    "data2['budget'].skew()\n",
    "\n",
    "median_budget = int(data2['budget'].median())\n",
    "data2['budget'].fillna(median_budget, inplace=True)"
   ]
  },
  {
   "cell_type": "code",
   "execution_count": 81,
   "id": "afbef3ea",
   "metadata": {},
   "outputs": [],
   "source": [
    "# The skew method shows that it has an extreme negative skew of -2 so we will use median rather than mean\n",
    "# imputing for 106 missing values\n",
    "data2['title_year'].skew()\n",
    "\n",
    "median_year = int(data2['title_year'].median())\n",
    "data2['title_year'].fillna(median_year, inplace=True)"
   ]
  },
  {
   "cell_type": "code",
   "execution_count": 82,
   "id": "fb39d059",
   "metadata": {},
   "outputs": [
    {
     "name": "stdout",
     "output_type": "stream",
     "text": [
      "<class 'pandas.core.frame.DataFrame'>\n",
      "Int64Index: 4916 entries, 0 to 5042\n",
      "Data columns (total 18 columns):\n",
      " #   Column                  Non-Null Count  Dtype  \n",
      "---  ------                  --------------  -----  \n",
      " 0   color                   4916 non-null   object \n",
      " 1   director_name           4916 non-null   object \n",
      " 2   num_critic_for_reviews  4916 non-null   Int64  \n",
      " 3   duration                4916 non-null   Int64  \n",
      " 4   actor_2_name            4916 non-null   object \n",
      " 5   gross                   4916 non-null   Int64  \n",
      " 6   genres                  4916 non-null   object \n",
      " 7   actor_1_name            4916 non-null   object \n",
      " 8   movie_title             4916 non-null   object \n",
      " 9   num_voted_users         4916 non-null   Int64  \n",
      " 10  actor_3_name            4916 non-null   object \n",
      " 11  num_user_for_reviews    4916 non-null   Int64  \n",
      " 12  language                4916 non-null   object \n",
      " 13  country                 4916 non-null   object \n",
      " 14  content_rating          4916 non-null   object \n",
      " 15  budget                  4916 non-null   Int64  \n",
      " 16  title_year              4916 non-null   Int64  \n",
      " 17  imdb_score              4916 non-null   float64\n",
      "dtypes: Int64(7), float64(1), object(10)\n",
      "memory usage: 763.3+ KB\n"
     ]
    }
   ],
   "source": [
    "data2.info()"
   ]
  },
  {
   "cell_type": "code",
   "execution_count": 83,
   "id": "a5c713ca",
   "metadata": {},
   "outputs": [],
   "source": [
    "# Now that data has been cleaned & imputed in both dataframes and matches the formatting and dtype of one another\n",
    "#4. Concatenate the two dataframes \n",
    "merged_df = pd.concat([data, data2])\n",
    "\n"
   ]
  },
  {
   "cell_type": "code",
   "execution_count": 84,
   "id": "ce325ccf",
   "metadata": {},
   "outputs": [],
   "source": [
    "# Create new csv file from merged_df\n",
    "merged_df.to_csv('merged_IMDB_data.csv', index=False)\n"
   ]
  },
  {
   "cell_type": "code",
   "execution_count": 85,
   "id": "ba756dde",
   "metadata": {
    "scrolled": true
   },
   "outputs": [
    {
     "name": "stdout",
     "output_type": "stream",
     "text": [
      "<class 'pandas.core.frame.DataFrame'>\n",
      "Int64Index: 999 entries, 0 to 999\n",
      "Data columns (total 11 columns):\n",
      " #   Column          Non-Null Count  Dtype  \n",
      "---  ------          --------------  -----  \n",
      " 0   movie_title     999 non-null    object \n",
      " 1   title_year      999 non-null    int64  \n",
      " 2   content_rating  999 non-null    object \n",
      " 3   duration        999 non-null    Int64  \n",
      " 4   genres          999 non-null    object \n",
      " 5   imdb_score      999 non-null    float64\n",
      " 6   director_name   999 non-null    object \n",
      " 7   actor_1_name    999 non-null    object \n",
      " 8   actor_2_name    999 non-null    object \n",
      " 9   actor_3_name    999 non-null    object \n",
      " 10  gross           999 non-null    Int64  \n",
      "dtypes: Int64(2), float64(1), int64(1), object(7)\n",
      "memory usage: 95.6+ KB\n"
     ]
    }
   ],
   "source": [
    "data.info()"
   ]
  },
  {
   "cell_type": "code",
   "execution_count": 86,
   "id": "2b4d4087",
   "metadata": {
    "scrolled": true
   },
   "outputs": [
    {
     "name": "stdout",
     "output_type": "stream",
     "text": [
      "<class 'pandas.core.frame.DataFrame'>\n",
      "Int64Index: 4916 entries, 0 to 5042\n",
      "Data columns (total 18 columns):\n",
      " #   Column                  Non-Null Count  Dtype  \n",
      "---  ------                  --------------  -----  \n",
      " 0   color                   4916 non-null   object \n",
      " 1   director_name           4916 non-null   object \n",
      " 2   num_critic_for_reviews  4916 non-null   Int64  \n",
      " 3   duration                4916 non-null   Int64  \n",
      " 4   actor_2_name            4916 non-null   object \n",
      " 5   gross                   4916 non-null   Int64  \n",
      " 6   genres                  4916 non-null   object \n",
      " 7   actor_1_name            4916 non-null   object \n",
      " 8   movie_title             4916 non-null   object \n",
      " 9   num_voted_users         4916 non-null   Int64  \n",
      " 10  actor_3_name            4916 non-null   object \n",
      " 11  num_user_for_reviews    4916 non-null   Int64  \n",
      " 12  language                4916 non-null   object \n",
      " 13  country                 4916 non-null   object \n",
      " 14  content_rating          4916 non-null   object \n",
      " 15  budget                  4916 non-null   Int64  \n",
      " 16  title_year              4916 non-null   Int64  \n",
      " 17  imdb_score              4916 non-null   float64\n",
      "dtypes: Int64(7), float64(1), object(10)\n",
      "memory usage: 763.3+ KB\n"
     ]
    }
   ],
   "source": [
    "data2.info()"
   ]
  },
  {
   "cell_type": "code",
   "execution_count": 87,
   "id": "523db18d",
   "metadata": {
    "scrolled": false
   },
   "outputs": [
    {
     "name": "stdout",
     "output_type": "stream",
     "text": [
      "<class 'pandas.core.frame.DataFrame'>\n",
      "Int64Index: 5915 entries, 0 to 5042\n",
      "Data columns (total 18 columns):\n",
      " #   Column                  Non-Null Count  Dtype  \n",
      "---  ------                  --------------  -----  \n",
      " 0   movie_title             5915 non-null   object \n",
      " 1   title_year              5915 non-null   Int64  \n",
      " 2   content_rating          5915 non-null   object \n",
      " 3   duration                5915 non-null   Int64  \n",
      " 4   genres                  5915 non-null   object \n",
      " 5   imdb_score              5915 non-null   float64\n",
      " 6   director_name           5915 non-null   object \n",
      " 7   actor_1_name            5915 non-null   object \n",
      " 8   actor_2_name            5915 non-null   object \n",
      " 9   actor_3_name            5915 non-null   object \n",
      " 10  gross                   5915 non-null   Int64  \n",
      " 11  color                   4916 non-null   object \n",
      " 12  num_critic_for_reviews  4916 non-null   Int64  \n",
      " 13  num_voted_users         4916 non-null   Int64  \n",
      " 14  num_user_for_reviews    4916 non-null   Int64  \n",
      " 15  language                4916 non-null   object \n",
      " 16  country                 4916 non-null   object \n",
      " 17  budget                  4916 non-null   Int64  \n",
      "dtypes: Int64(7), float64(1), object(10)\n",
      "memory usage: 918.4+ KB\n"
     ]
    }
   ],
   "source": [
    "merged_df.info()"
   ]
  },
  {
   "cell_type": "code",
   "execution_count": 88,
   "id": "11b5e01f",
   "metadata": {},
   "outputs": [],
   "source": [
    "#5. Drop duplicate entries using the drop method\n",
    "\n",
    "merged_df = merged_df.drop_duplicates(subset=['movie_title'])"
   ]
  },
  {
   "cell_type": "code",
   "execution_count": 89,
   "id": "88456420",
   "metadata": {
    "scrolled": false
   },
   "outputs": [
    {
     "name": "stdout",
     "output_type": "stream",
     "text": [
      "<class 'pandas.core.frame.DataFrame'>\n",
      "Int64Index: 5913 entries, 0 to 5042\n",
      "Data columns (total 18 columns):\n",
      " #   Column                  Non-Null Count  Dtype  \n",
      "---  ------                  --------------  -----  \n",
      " 0   movie_title             5913 non-null   object \n",
      " 1   title_year              5913 non-null   Int64  \n",
      " 2   content_rating          5913 non-null   object \n",
      " 3   duration                5913 non-null   Int64  \n",
      " 4   genres                  5913 non-null   object \n",
      " 5   imdb_score              5913 non-null   float64\n",
      " 6   director_name           5913 non-null   object \n",
      " 7   actor_1_name            5913 non-null   object \n",
      " 8   actor_2_name            5913 non-null   object \n",
      " 9   actor_3_name            5913 non-null   object \n",
      " 10  gross                   5913 non-null   Int64  \n",
      " 11  color                   4914 non-null   object \n",
      " 12  num_critic_for_reviews  4914 non-null   Int64  \n",
      " 13  num_voted_users         4914 non-null   Int64  \n",
      " 14  num_user_for_reviews    4914 non-null   Int64  \n",
      " 15  language                4914 non-null   object \n",
      " 16  country                 4914 non-null   object \n",
      " 17  budget                  4914 non-null   Int64  \n",
      "dtypes: Int64(7), float64(1), object(10)\n",
      "memory usage: 918.1+ KB\n"
     ]
    }
   ],
   "source": [
    "# After dropping rows of duplicate movie titles, we decreased merged_df range of entries from 5915 to 5913\n",
    "# Explanation: Since both datasets relate to Popular IMDB movies\n",
    "# There must have been a lot of the same movies within the 5k IMDB dataset & among the 1k IMDB dataset\n",
    "# Because I had already dropped duplicates individually within each dataframe prior to concatenation\n",
    "\n",
    "merged_df.info()\n",
    "\n",
    "\n",
    "# With the new concatenation we have added 4914 new entries to the 1k data we began with\n",
    "# Along with a new total of 17 features"
   ]
  },
  {
   "cell_type": "code",
   "execution_count": 94,
   "id": "cce55c9a",
   "metadata": {
    "scrolled": false
   },
   "outputs": [],
   "source": [
    "# select categorical columns\n",
    "cat_cols = ['language', 'country', 'color']\n",
    "\n",
    "# perform one-hot encoding\n",
    "# country and language will still be objects even after being encoded because they are not binary like color\n",
    "encoded_df = pd.get_dummies(merged_df, columns=cat_cols)\n",
    "\n"
   ]
  },
  {
   "cell_type": "code",
   "execution_count": 95,
   "id": "676597f2",
   "metadata": {
    "scrolled": true
   },
   "outputs": [
    {
     "name": "stdout",
     "output_type": "stream",
     "text": [
      "<class 'pandas.core.frame.DataFrame'>\n",
      "Int64Index: 5913 entries, 0 to 5042\n",
      "Data columns (total 18 columns):\n",
      " #   Column                  Non-Null Count  Dtype  \n",
      "---  ------                  --------------  -----  \n",
      " 0   movie_title             5913 non-null   object \n",
      " 1   title_year              5913 non-null   Int64  \n",
      " 2   content_rating          5913 non-null   object \n",
      " 3   duration                5913 non-null   Int64  \n",
      " 4   genres                  5913 non-null   object \n",
      " 5   imdb_score              5913 non-null   float64\n",
      " 6   director_name           5913 non-null   object \n",
      " 7   actor_1_name            5913 non-null   object \n",
      " 8   actor_2_name            5913 non-null   object \n",
      " 9   actor_3_name            5913 non-null   object \n",
      " 10  gross                   5913 non-null   Int64  \n",
      " 11  color                   4914 non-null   object \n",
      " 12  num_critic_for_reviews  4914 non-null   Int64  \n",
      " 13  num_voted_users         4914 non-null   Int64  \n",
      " 14  num_user_for_reviews    4914 non-null   Int64  \n",
      " 15  language                4914 non-null   object \n",
      " 16  country                 4914 non-null   object \n",
      " 17  budget                  4914 non-null   Int64  \n",
      "dtypes: Int64(7), float64(1), object(10)\n",
      "memory usage: 918.1+ KB\n"
     ]
    }
   ],
   "source": [
    "merged_df.info()"
   ]
  },
  {
   "cell_type": "code",
   "execution_count": null,
   "id": "4bfb0706",
   "metadata": {},
   "outputs": [],
   "source": []
  }
 ],
 "metadata": {
  "kernelspec": {
   "display_name": "Python 3 (ipykernel)",
   "language": "python",
   "name": "python3"
  },
  "language_info": {
   "codemirror_mode": {
    "name": "ipython",
    "version": 3
   },
   "file_extension": ".py",
   "mimetype": "text/x-python",
   "name": "python",
   "nbconvert_exporter": "python",
   "pygments_lexer": "ipython3",
   "version": "3.9.13"
  }
 },
 "nbformat": 4,
 "nbformat_minor": 5
}
